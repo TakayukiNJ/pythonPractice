{
 "cells": [
  {
   "cell_type": "markdown",
   "metadata": {},
   "source": [
    "# 課題\n",
    "s = input()でキーボードから入力された文字列を変数sに代入できます。繰り返し入力された文字列を順番にリストまたはディクショナリーに追加して、文字列「end」が入力されたら入力を終了し、リストの内容を表示しましょう。endが入力されるまで無限回数、文字列が入力できるようにします。\n",
    "ディクショナリーを使うと評価をUPします。"
   ]
  },
  {
   "cell_type": "markdown",
   "metadata": {},
   "source": [
    "ヒント：while, if, breakなどを使う。"
   ]
  },
  {
   "cell_type": "code",
   "execution_count": 1,
   "metadata": {},
   "outputs": [
    {
     "name": "stdout",
     "output_type": "stream",
     "text": [
      "何か文字を入力してください:a\n",
      "何か文字を入力してください:end\n",
      "['a']\n"
     ]
    }
   ],
   "source": [
    "# dataという箱を作る\n",
    "data = []\n",
    "\n",
    "# trueである限り、ずっとグルグルループさせる処理\n",
    "while True:\n",
    "    # インプットで打った内容をsという変数に入れる\n",
    "    s = input(\"何か文字を入力してください:\")\n",
    "    \n",
    "    # インプットで入れた文字が end だったらループを break で終了させる\n",
    "    if s == \"end\":\n",
    "        break\n",
    "    else:\n",
    "        data.append(s)\n",
    "        \n",
    "#endと打つ前の中身を全て表示させる\n",
    "print(data)"
   ]
  },
  {
   "cell_type": "code",
   "execution_count": null,
   "metadata": {},
   "outputs": [],
   "source": []
  },
  {
   "cell_type": "code",
   "execution_count": null,
   "metadata": {},
   "outputs": [],
   "source": []
  },
  {
   "cell_type": "code",
   "execution_count": null,
   "metadata": {},
   "outputs": [],
   "source": []
  }
 ],
 "metadata": {
  "kernelspec": {
   "display_name": "Python 3",
   "language": "python",
   "name": "python3"
  },
  "language_info": {
   "codemirror_mode": {
    "name": "ipython",
    "version": 3
   },
   "file_extension": ".py",
   "mimetype": "text/x-python",
   "name": "python",
   "nbconvert_exporter": "python",
   "pygments_lexer": "ipython3",
   "version": "3.5.2"
  }
 },
 "nbformat": 4,
 "nbformat_minor": 2
}
