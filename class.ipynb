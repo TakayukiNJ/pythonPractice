{
 "cells": [
  {
   "cell_type": "markdown",
   "metadata": {},
   "source": [
    "# 繰り返し/Loop\n",
    "データを一覧で表示するときなど、繰り返し同じ処理を実行する場面がたくさんあります。繰り返しの処理を覚えて大量のデータもわかりやすく単純に処理しましょう。キーワードごとに実際に動かしながら理解を深めていきます。"
   ]
  },
  {
   "cell_type": "markdown",
   "metadata": {},
   "source": [
    "キーワード：for・range・while・break・continue・二重ループ"
   ]
  },
  {
   "cell_type": "code",
   "execution_count": 3,
   "metadata": {},
   "outputs": [
    {
     "name": "stdout",
     "output_type": "stream",
     "text": [
      "{'sleep': [8, 9, 7, 7]}\n",
      "{'sleep': [8, 7, 7, 7]}\n"
     ]
    }
   ],
   "source": [
    "d = {\"sleep\":[8,9,7]}\n",
    "\n",
    "l = d[\"sleep\"]\n",
    "\n",
    "l.append(7)\n",
    "\n",
    "print(d)\n",
    "\n",
    "l[1] = 7\n",
    "\n",
    "print(d)"
   ]
  },
  {
   "cell_type": "markdown",
   "metadata": {},
   "source": [
    "## 繰り返し/Loop\n",
    "なんども同じ処理を実行するにはプログラムをコピーしてたくさんの行数が必要です。100回繰り返すには100個のコピーが必要です。繰り返しを使えば同じ処理を簡単に指定数分だけ実行することができます。"
   ]
  },
  {
   "cell_type": "markdown",
   "metadata": {},
   "source": [
    "繰り返す条件により何種類かの命令があります。"
   ]
  },
  {
   "cell_type": "markdown",
   "metadata": {},
   "source": [
    "## for\n",
    "複数のオブジェクトからなる要素(イテラティブ)の先頭から一つずつオブジェクトが取り出され１つの変数に代入され、要素の数分だけブロックを繰り返し実行します。\n",
    "\n",
    "構文\n",
    "\n",
    "for 変数 in 要素:\n",
    "\n",
    "    ブロック"
   ]
  },
  {
   "cell_type": "code",
   "execution_count": 5,
   "metadata": {},
   "outputs": [
    {
     "name": "stdout",
     "output_type": "stream",
     "text": [
      "1\n",
      "2\n",
      "3\n",
      "end\n"
     ]
    }
   ],
   "source": [
    "l = [1,2,3]\n",
    "\n",
    "#lの要素が３つあるので３回繰り返されます。 aの値にはlの先頭から１つずつaに代入されブロックが実行されます。\n",
    "for a in l: \n",
    "\n",
    "    print(a)\n",
    "\n",
    "print(\"end\")"
   ]
  },
  {
   "cell_type": "markdown",
   "metadata": {},
   "source": [
    "lはリスト以外にもタプルやディクショナリーも指定できます。"
   ]
  },
  {
   "cell_type": "markdown",
   "metadata": {},
   "source": [
    "## range\n",
    "関数です。整数の要素を自動的に生成します。forなどと組み合わせて使います。"
   ]
  },
  {
   "cell_type": "code",
   "execution_count": 7,
   "metadata": {},
   "outputs": [
    {
     "name": "stdout",
     "output_type": "stream",
     "text": [
      "1\n",
      "2\n",
      "3\n"
     ]
    }
   ],
   "source": [
    "#1から3のリストを生成.最後の4は含まれない\n",
    "for a in range(1,4):\n",
    "\n",
    "    print(a)"
   ]
  },
  {
   "cell_type": "markdown",
   "metadata": {},
   "source": [
    "## while\n",
    "式がTrueの時はブロックを繰り返します。１回のブロックの実行が終了するたびに式が評価されます。永遠にTrueのままだと無限ループになり処理が終了しません。\n",
    "\n",
    "構文\n",
    "\n",
    "while 式:\n",
    "\n",
    "    ブロック"
   ]
  },
  {
   "cell_type": "code",
   "execution_count": 11,
   "metadata": {},
   "outputs": [
    {
     "name": "stdout",
     "output_type": "stream",
     "text": [
      "1\n",
      "2\n",
      "3\n",
      "4\n",
      "5\n",
      "6\n",
      "7\n",
      "8\n",
      "9\n",
      "10\n"
     ]
    }
   ],
   "source": [
    "a = 1\n",
    "\n",
    "while a <= 10: # aが10以下の時はブロックを実行\n",
    "    print(a)\n",
    "    a += 1 #a = a + 1とおなじ"
   ]
  },
  {
   "cell_type": "markdown",
   "metadata": {},
   "source": [
    "## break\n",
    "Loopを終了するための命令。ifなどの条件と組み合わせて使うことが多い。"
   ]
  },
  {
   "cell_type": "code",
   "execution_count": 8,
   "metadata": {},
   "outputs": [
    {
     "name": "stdout",
     "output_type": "stream",
     "text": [
      "1\n",
      "2\n",
      "Last = 3\n"
     ]
    }
   ],
   "source": [
    "a = 1\n",
    "\n",
    "while a <= 10:\n",
    "    print(a)\n",
    "    a += 1\n",
    "\n",
    "    if a > 2: # aが2より大きいときは\n",
    "        break\n",
    "\n",
    "print(\"Last = %s\" % a) # 3が表示される"
   ]
  },
  {
   "cell_type": "markdown",
   "metadata": {},
   "source": [
    "## continue\n",
    "Loopのブロックを途中で終了して次のLoopのブロックを実行します。ifなどの条件と組み合わせて使うことが多い。\n",
    "for,whileのLoopで使えます。"
   ]
  },
  {
   "cell_type": "code",
   "execution_count": 12,
   "metadata": {},
   "outputs": [
    {
     "name": "stdout",
     "output_type": "stream",
     "text": [
      "1\n",
      "2\n",
      "3\n",
      "4\n",
      "6\n",
      "7\n",
      "8\n",
      "9\n",
      "10\n"
     ]
    }
   ],
   "source": [
    "for a in range (1,11):\n",
    "    if a == 5: # aが5のときは\n",
    "        continue\n",
    "    print(a) # 5のときは実行されない.表示されない"
   ]
  },
  {
   "cell_type": "markdown",
   "metadata": {},
   "source": [
    "## 二重ループ\n",
    "Loopをブロックで分けて多重の繰り返しができます。x,y座標などの組み合わせを計算するときに使います。"
   ]
  },
  {
   "cell_type": "code",
   "execution_count": 15,
   "metadata": {},
   "outputs": [
    {
     "name": "stdout",
     "output_type": "stream",
     "text": [
      "x=1, y=y1\n",
      "x=1, y=y2\n",
      "x=1, y=y3\n",
      "x=2, y=y1\n",
      "x=2, y=y2\n",
      "x=2, y=y3\n",
      "x=3, y=y1\n",
      "x=3, y=y2\n",
      "x=3, y=y3\n",
      "x=4, y=y1\n",
      "x=4, y=y2\n",
      "x=4, y=y3\n"
     ]
    }
   ],
   "source": [
    "for x in range (1,5):\n",
    "    for y in [\"y1\",\"y2\",\"y3\"]:\n",
    "        print(\"x=%s, y=%s\" % (x,y))"
   ]
  },
  {
   "cell_type": "code",
   "execution_count": 17,
   "metadata": {},
   "outputs": [
    {
     "name": "stdout",
     "output_type": "stream",
     "text": [
      "2\n",
      "4\n",
      "5\n",
      "6\n"
     ]
    }
   ],
   "source": [
    "## 練習\n",
    "a = 1\n",
    "while a <= 5:\n",
    "    a += 1\n",
    "    if a == 3:\n",
    "        continue\n",
    "    print(a)"
   ]
  },
  {
   "cell_type": "code",
   "execution_count": null,
   "metadata": {},
   "outputs": [],
   "source": []
  }
 ],
 "metadata": {
  "kernelspec": {
   "display_name": "Python 3",
   "language": "python",
   "name": "python3"
  },
  "language_info": {
   "codemirror_mode": {
    "name": "ipython",
    "version": 3
   },
   "file_extension": ".py",
   "mimetype": "text/x-python",
   "name": "python",
   "nbconvert_exporter": "python",
   "pygments_lexer": "ipython3",
   "version": "3.5.2"
  }
 },
 "nbformat": 4,
 "nbformat_minor": 2
}
